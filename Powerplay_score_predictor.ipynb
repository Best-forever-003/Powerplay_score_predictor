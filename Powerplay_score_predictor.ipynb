{
  "nbformat": 4,
  "nbformat_minor": 0,
  "metadata": {
    "kernelspec": {
      "display_name": "Python 3",
      "language": "python",
      "name": "python3"
    },
    "language_info": {
      "codemirror_mode": {
        "name": "ipython",
        "version": 3
      },
      "file_extension": ".py",
      "mimetype": "text/x-python",
      "name": "python",
      "nbconvert_exporter": "python",
      "pygments_lexer": "ipython3",
      "version": "3.8.5"
    },
    "colab": {
      "name": "IITMBSC02638.ipynb",
      "provenance": []
    }
  },
  "cells": [
    {
      "cell_type": "markdown",
      "metadata": {
        "id": "as2uUfNEe-uL"
      },
      "source": [
        "# **PROJECT NAME : POWERPLAY SCORE PREDICTOR**\n",
        "\n",
        "**AUTHORS**\n",
        "\n",
        "AAMIR P\n",
        "\n",
        "MUJEEBUR RAHMAN\n",
        "\n",
        "HENRY JACOB"
      ]
    },
    {
      "cell_type": "markdown",
      "metadata": {
        "id": "-tQU7JH8gsLz"
      },
      "source": [
        "**IMPORT LIBRARIES**"
      ]
    },
    {
      "cell_type": "code",
      "metadata": {
        "id": "wwwCPVJDe6dA"
      },
      "source": [
        "import pandas as pd\n",
        "import warnings\n",
        "warnings.filterwarnings('ignore')\n",
        "import time"
      ],
      "execution_count": 1,
      "outputs": []
    },
    {
      "cell_type": "markdown",
      "metadata": {
        "id": "1i9DOJrYg06M"
      },
      "source": [
        "**IMPORTING THE ZIP FILE AND EXTRACTING THE DATA**"
      ]
    },
    {
      "cell_type": "code",
      "metadata": {
        "colab": {
          "base_uri": "https://localhost:8080/"
        },
        "id": "Pr-isXMWfJLF",
        "outputId": "745c9288-76ff-4241-f2b5-7873769d62d3"
      },
      "source": [
        "from zipfile import ZipFile\n",
        "from urllib.request import urlopen\n",
        "from shutil import copyfileobj\n",
        "from os import remove\n",
        "\n",
        "url = 'https://cricsheet.org/downloads/ipl_csv2.zip'\n",
        "file_name = 'ipl_csv2.zip'\n",
        "with urlopen(url) as response, open(file_name, 'wb') as out_file:\n",
        "    copyfileobj(response, out_file)\n",
        "    with ZipFile(file_name) as zf:\n",
        "        zf.extract('all_matches.csv')\n",
        "remove('ipl_csv2.zip')\n",
        "print('Data Extracted from Zip File')"
      ],
      "execution_count": 2,
      "outputs": [
        {
          "output_type": "stream",
          "text": [
            "Data Extracted from Zip File\n"
          ],
          "name": "stdout"
        }
      ]
    },
    {
      "cell_type": "markdown",
      "metadata": {
        "id": "9iwnlfQQhDvH"
      },
      "source": [
        "**READ THE DATA**"
      ]
    },
    {
      "cell_type": "code",
      "metadata": {
        "colab": {
          "base_uri": "https://localhost:8080/",
          "height": 842
        },
        "id": "0VhFREJze6dU",
        "outputId": "e0915826-297d-4eb8-fa17-2e01f8b10e37"
      },
      "source": [
        "data = pd.read_csv('all_matches.csv')\n",
        "data"
      ],
      "execution_count": 3,
      "outputs": [
        {
          "output_type": "execute_result",
          "data": {
            "text/html": [
              "<div>\n",
              "<style scoped>\n",
              "    .dataframe tbody tr th:only-of-type {\n",
              "        vertical-align: middle;\n",
              "    }\n",
              "\n",
              "    .dataframe tbody tr th {\n",
              "        vertical-align: top;\n",
              "    }\n",
              "\n",
              "    .dataframe thead th {\n",
              "        text-align: right;\n",
              "    }\n",
              "</style>\n",
              "<table border=\"1\" class=\"dataframe\">\n",
              "  <thead>\n",
              "    <tr style=\"text-align: right;\">\n",
              "      <th></th>\n",
              "      <th>match_id</th>\n",
              "      <th>season</th>\n",
              "      <th>start_date</th>\n",
              "      <th>venue</th>\n",
              "      <th>innings</th>\n",
              "      <th>ball</th>\n",
              "      <th>batting_team</th>\n",
              "      <th>bowling_team</th>\n",
              "      <th>striker</th>\n",
              "      <th>non_striker</th>\n",
              "      <th>bowler</th>\n",
              "      <th>runs_off_bat</th>\n",
              "      <th>extras</th>\n",
              "      <th>wides</th>\n",
              "      <th>noballs</th>\n",
              "      <th>byes</th>\n",
              "      <th>legbyes</th>\n",
              "      <th>penalty</th>\n",
              "      <th>wicket_type</th>\n",
              "      <th>player_dismissed</th>\n",
              "      <th>other_wicket_type</th>\n",
              "      <th>other_player_dismissed</th>\n",
              "    </tr>\n",
              "  </thead>\n",
              "  <tbody>\n",
              "    <tr>\n",
              "      <th>0</th>\n",
              "      <td>335982</td>\n",
              "      <td>2007/08</td>\n",
              "      <td>2008-04-18</td>\n",
              "      <td>M Chinnaswamy Stadium</td>\n",
              "      <td>1</td>\n",
              "      <td>0.1</td>\n",
              "      <td>Kolkata Knight Riders</td>\n",
              "      <td>Royal Challengers Bangalore</td>\n",
              "      <td>SC Ganguly</td>\n",
              "      <td>BB McCullum</td>\n",
              "      <td>P Kumar</td>\n",
              "      <td>0</td>\n",
              "      <td>1</td>\n",
              "      <td>NaN</td>\n",
              "      <td>NaN</td>\n",
              "      <td>NaN</td>\n",
              "      <td>1.0</td>\n",
              "      <td>NaN</td>\n",
              "      <td>NaN</td>\n",
              "      <td>NaN</td>\n",
              "      <td>NaN</td>\n",
              "      <td>NaN</td>\n",
              "    </tr>\n",
              "    <tr>\n",
              "      <th>1</th>\n",
              "      <td>335982</td>\n",
              "      <td>2007/08</td>\n",
              "      <td>2008-04-18</td>\n",
              "      <td>M Chinnaswamy Stadium</td>\n",
              "      <td>1</td>\n",
              "      <td>0.2</td>\n",
              "      <td>Kolkata Knight Riders</td>\n",
              "      <td>Royal Challengers Bangalore</td>\n",
              "      <td>BB McCullum</td>\n",
              "      <td>SC Ganguly</td>\n",
              "      <td>P Kumar</td>\n",
              "      <td>0</td>\n",
              "      <td>0</td>\n",
              "      <td>NaN</td>\n",
              "      <td>NaN</td>\n",
              "      <td>NaN</td>\n",
              "      <td>NaN</td>\n",
              "      <td>NaN</td>\n",
              "      <td>NaN</td>\n",
              "      <td>NaN</td>\n",
              "      <td>NaN</td>\n",
              "      <td>NaN</td>\n",
              "    </tr>\n",
              "    <tr>\n",
              "      <th>2</th>\n",
              "      <td>335982</td>\n",
              "      <td>2007/08</td>\n",
              "      <td>2008-04-18</td>\n",
              "      <td>M Chinnaswamy Stadium</td>\n",
              "      <td>1</td>\n",
              "      <td>0.3</td>\n",
              "      <td>Kolkata Knight Riders</td>\n",
              "      <td>Royal Challengers Bangalore</td>\n",
              "      <td>BB McCullum</td>\n",
              "      <td>SC Ganguly</td>\n",
              "      <td>P Kumar</td>\n",
              "      <td>0</td>\n",
              "      <td>1</td>\n",
              "      <td>1.0</td>\n",
              "      <td>NaN</td>\n",
              "      <td>NaN</td>\n",
              "      <td>NaN</td>\n",
              "      <td>NaN</td>\n",
              "      <td>NaN</td>\n",
              "      <td>NaN</td>\n",
              "      <td>NaN</td>\n",
              "      <td>NaN</td>\n",
              "    </tr>\n",
              "    <tr>\n",
              "      <th>3</th>\n",
              "      <td>335982</td>\n",
              "      <td>2007/08</td>\n",
              "      <td>2008-04-18</td>\n",
              "      <td>M Chinnaswamy Stadium</td>\n",
              "      <td>1</td>\n",
              "      <td>0.4</td>\n",
              "      <td>Kolkata Knight Riders</td>\n",
              "      <td>Royal Challengers Bangalore</td>\n",
              "      <td>BB McCullum</td>\n",
              "      <td>SC Ganguly</td>\n",
              "      <td>P Kumar</td>\n",
              "      <td>0</td>\n",
              "      <td>0</td>\n",
              "      <td>NaN</td>\n",
              "      <td>NaN</td>\n",
              "      <td>NaN</td>\n",
              "      <td>NaN</td>\n",
              "      <td>NaN</td>\n",
              "      <td>NaN</td>\n",
              "      <td>NaN</td>\n",
              "      <td>NaN</td>\n",
              "      <td>NaN</td>\n",
              "    </tr>\n",
              "    <tr>\n",
              "      <th>4</th>\n",
              "      <td>335982</td>\n",
              "      <td>2007/08</td>\n",
              "      <td>2008-04-18</td>\n",
              "      <td>M Chinnaswamy Stadium</td>\n",
              "      <td>1</td>\n",
              "      <td>0.5</td>\n",
              "      <td>Kolkata Knight Riders</td>\n",
              "      <td>Royal Challengers Bangalore</td>\n",
              "      <td>BB McCullum</td>\n",
              "      <td>SC Ganguly</td>\n",
              "      <td>P Kumar</td>\n",
              "      <td>0</td>\n",
              "      <td>0</td>\n",
              "      <td>NaN</td>\n",
              "      <td>NaN</td>\n",
              "      <td>NaN</td>\n",
              "      <td>NaN</td>\n",
              "      <td>NaN</td>\n",
              "      <td>NaN</td>\n",
              "      <td>NaN</td>\n",
              "      <td>NaN</td>\n",
              "      <td>NaN</td>\n",
              "    </tr>\n",
              "    <tr>\n",
              "      <th>...</th>\n",
              "      <td>...</td>\n",
              "      <td>...</td>\n",
              "      <td>...</td>\n",
              "      <td>...</td>\n",
              "      <td>...</td>\n",
              "      <td>...</td>\n",
              "      <td>...</td>\n",
              "      <td>...</td>\n",
              "      <td>...</td>\n",
              "      <td>...</td>\n",
              "      <td>...</td>\n",
              "      <td>...</td>\n",
              "      <td>...</td>\n",
              "      <td>...</td>\n",
              "      <td>...</td>\n",
              "      <td>...</td>\n",
              "      <td>...</td>\n",
              "      <td>...</td>\n",
              "      <td>...</td>\n",
              "      <td>...</td>\n",
              "      <td>...</td>\n",
              "      <td>...</td>\n",
              "    </tr>\n",
              "    <tr>\n",
              "      <th>200659</th>\n",
              "      <td>1254086</td>\n",
              "      <td>2021</td>\n",
              "      <td>2021-05-02</td>\n",
              "      <td>Narendra Modi Stadium, Ahmedabad</td>\n",
              "      <td>2</td>\n",
              "      <td>17.2</td>\n",
              "      <td>Delhi Capitals</td>\n",
              "      <td>Punjab Kings</td>\n",
              "      <td>SO Hetmyer</td>\n",
              "      <td>S Dhawan</td>\n",
              "      <td>RP Meredith</td>\n",
              "      <td>6</td>\n",
              "      <td>0</td>\n",
              "      <td>NaN</td>\n",
              "      <td>NaN</td>\n",
              "      <td>NaN</td>\n",
              "      <td>NaN</td>\n",
              "      <td>NaN</td>\n",
              "      <td>NaN</td>\n",
              "      <td>NaN</td>\n",
              "      <td>NaN</td>\n",
              "      <td>NaN</td>\n",
              "    </tr>\n",
              "    <tr>\n",
              "      <th>200660</th>\n",
              "      <td>1254086</td>\n",
              "      <td>2021</td>\n",
              "      <td>2021-05-02</td>\n",
              "      <td>Narendra Modi Stadium, Ahmedabad</td>\n",
              "      <td>2</td>\n",
              "      <td>17.3</td>\n",
              "      <td>Delhi Capitals</td>\n",
              "      <td>Punjab Kings</td>\n",
              "      <td>SO Hetmyer</td>\n",
              "      <td>S Dhawan</td>\n",
              "      <td>RP Meredith</td>\n",
              "      <td>6</td>\n",
              "      <td>0</td>\n",
              "      <td>NaN</td>\n",
              "      <td>NaN</td>\n",
              "      <td>NaN</td>\n",
              "      <td>NaN</td>\n",
              "      <td>NaN</td>\n",
              "      <td>NaN</td>\n",
              "      <td>NaN</td>\n",
              "      <td>NaN</td>\n",
              "      <td>NaN</td>\n",
              "    </tr>\n",
              "    <tr>\n",
              "      <th>200661</th>\n",
              "      <td>1254086</td>\n",
              "      <td>2021</td>\n",
              "      <td>2021-05-02</td>\n",
              "      <td>Narendra Modi Stadium, Ahmedabad</td>\n",
              "      <td>2</td>\n",
              "      <td>17.4</td>\n",
              "      <td>Delhi Capitals</td>\n",
              "      <td>Punjab Kings</td>\n",
              "      <td>SO Hetmyer</td>\n",
              "      <td>S Dhawan</td>\n",
              "      <td>RP Meredith</td>\n",
              "      <td>4</td>\n",
              "      <td>0</td>\n",
              "      <td>NaN</td>\n",
              "      <td>NaN</td>\n",
              "      <td>NaN</td>\n",
              "      <td>NaN</td>\n",
              "      <td>NaN</td>\n",
              "      <td>NaN</td>\n",
              "      <td>NaN</td>\n",
              "      <td>NaN</td>\n",
              "      <td>NaN</td>\n",
              "    </tr>\n",
              "    <tr>\n",
              "      <th>200662</th>\n",
              "      <td>1254086</td>\n",
              "      <td>2021</td>\n",
              "      <td>2021-05-02</td>\n",
              "      <td>Narendra Modi Stadium, Ahmedabad</td>\n",
              "      <td>2</td>\n",
              "      <td>17.5</td>\n",
              "      <td>Delhi Capitals</td>\n",
              "      <td>Punjab Kings</td>\n",
              "      <td>SO Hetmyer</td>\n",
              "      <td>S Dhawan</td>\n",
              "      <td>RP Meredith</td>\n",
              "      <td>0</td>\n",
              "      <td>1</td>\n",
              "      <td>1.0</td>\n",
              "      <td>NaN</td>\n",
              "      <td>NaN</td>\n",
              "      <td>NaN</td>\n",
              "      <td>NaN</td>\n",
              "      <td>NaN</td>\n",
              "      <td>NaN</td>\n",
              "      <td>NaN</td>\n",
              "      <td>NaN</td>\n",
              "    </tr>\n",
              "    <tr>\n",
              "      <th>200663</th>\n",
              "      <td>1254086</td>\n",
              "      <td>2021</td>\n",
              "      <td>2021-05-02</td>\n",
              "      <td>Narendra Modi Stadium, Ahmedabad</td>\n",
              "      <td>2</td>\n",
              "      <td>17.6</td>\n",
              "      <td>Delhi Capitals</td>\n",
              "      <td>Punjab Kings</td>\n",
              "      <td>SO Hetmyer</td>\n",
              "      <td>S Dhawan</td>\n",
              "      <td>RP Meredith</td>\n",
              "      <td>0</td>\n",
              "      <td>1</td>\n",
              "      <td>1.0</td>\n",
              "      <td>NaN</td>\n",
              "      <td>NaN</td>\n",
              "      <td>NaN</td>\n",
              "      <td>NaN</td>\n",
              "      <td>NaN</td>\n",
              "      <td>NaN</td>\n",
              "      <td>NaN</td>\n",
              "      <td>NaN</td>\n",
              "    </tr>\n",
              "  </tbody>\n",
              "</table>\n",
              "<p>200664 rows × 22 columns</p>\n",
              "</div>"
            ],
            "text/plain": [
              "        match_id   season  ... other_wicket_type other_player_dismissed\n",
              "0         335982  2007/08  ...               NaN                    NaN\n",
              "1         335982  2007/08  ...               NaN                    NaN\n",
              "2         335982  2007/08  ...               NaN                    NaN\n",
              "3         335982  2007/08  ...               NaN                    NaN\n",
              "4         335982  2007/08  ...               NaN                    NaN\n",
              "...          ...      ...  ...               ...                    ...\n",
              "200659   1254086     2021  ...               NaN                    NaN\n",
              "200660   1254086     2021  ...               NaN                    NaN\n",
              "200661   1254086     2021  ...               NaN                    NaN\n",
              "200662   1254086     2021  ...               NaN                    NaN\n",
              "200663   1254086     2021  ...               NaN                    NaN\n",
              "\n",
              "[200664 rows x 22 columns]"
            ]
          },
          "metadata": {
            "tags": []
          },
          "execution_count": 3
        }
      ]
    },
    {
      "cell_type": "markdown",
      "metadata": {
        "id": "9D3aevtOhiXB"
      },
      "source": [
        "**COPY DATA**"
      ]
    },
    {
      "cell_type": "code",
      "metadata": {
        "id": "Q3nn27kbe6dY"
      },
      "source": [
        "df = data.copy()"
      ],
      "execution_count": 4,
      "outputs": []
    },
    {
      "cell_type": "markdown",
      "metadata": {
        "id": "NZyzLidchvKi"
      },
      "source": [
        "**ADD**"
      ]
    },
    {
      "cell_type": "code",
      "metadata": {
        "id": "Oz2ckaIWe6dZ"
      },
      "source": [
        "df['score'] = df['runs_off_bat'] + df['extras']"
      ],
      "execution_count": 5,
      "outputs": []
    },
    {
      "cell_type": "code",
      "metadata": {
        "id": "HYUvpms0e6dZ"
      },
      "source": [
        "# keeping only first 6 overs\n",
        "df.drop(df[df['ball'] >= 6].index, inplace = True)\n",
        "\n",
        "# excluding super-overs\n",
        "df.drop(df[df['innings'] > 2].index, inplace = True)\n",
        "\n",
        "# dropping unnecessary columns\n",
        "df.drop(['season','runs_off_bat','extras','wides','noballs','byes','legbyes','penalty','wicket_type',\n",
        "         'player_dismissed','other_wicket_type','other_player_dismissed'], axis = 1, inplace = True)"
      ],
      "execution_count": 6,
      "outputs": []
    },
    {
      "cell_type": "code",
      "metadata": {
        "id": "9AipHOX0e6da"
      },
      "source": [
        "# change str value of date to pandas datetime format\n",
        "df['start_date'] = pd.to_datetime(df['start_date'])"
      ],
      "execution_count": 7,
      "outputs": []
    },
    {
      "cell_type": "code",
      "metadata": {
        "colab": {
          "base_uri": "https://localhost:8080/"
        },
        "id": "aucAyz4Ze6db",
        "outputId": "ba1bdf0d-653e-4232-928d-ca136010c938"
      },
      "source": [
        "# to know the last date\n",
        "df['start_date'].max()"
      ],
      "execution_count": 8,
      "outputs": [
        {
          "output_type": "execute_result",
          "data": {
            "text/plain": [
              "Timestamp('2021-05-02 00:00:00')"
            ]
          },
          "metadata": {
            "tags": []
          },
          "execution_count": 8
        }
      ]
    },
    {
      "cell_type": "code",
      "metadata": {
        "id": "dkv8E4Ite6db"
      },
      "source": [
        "last_date_match = df[df['start_date'] == '2021-05-2 00:00:00']"
      ],
      "execution_count": 9,
      "outputs": []
    },
    {
      "cell_type": "code",
      "metadata": {
        "colab": {
          "base_uri": "https://localhost:8080/"
        },
        "id": "CWb6guqBe6dc",
        "outputId": "e5c1de7e-a672-42ff-f244-9fef22b188b5"
      },
      "source": [
        "# last match must be a final so we dont need to check how many matches on that day\n",
        "# If doubt, to confirm we can see unique values\n",
        "last_date_match['batting_team'].unique()"
      ],
      "execution_count": 10,
      "outputs": [
        {
          "output_type": "execute_result",
          "data": {
            "text/plain": [
              "array(['Rajasthan Royals', 'Sunrisers Hyderabad', 'Punjab Kings',\n",
              "       'Delhi Capitals'], dtype=object)"
            ]
          },
          "metadata": {
            "tags": []
          },
          "execution_count": 10
        }
      ]
    },
    {
      "cell_type": "code",
      "metadata": {
        "id": "35_ZS-Qze6dd"
      },
      "source": [
        "def scores_of_first_six_overs(data):\n",
        "    teams = last_date_match['batting_team'].unique()\n",
        "    team_1 = teams[0]\n",
        "    team_2 = teams[1]\n",
        "    first = last_date_match[last_date_match['batting_team'] == team_1]\n",
        "    second = last_date_match[last_date_match['batting_team'] == team_2]\n",
        "    print(f'{team_1} team scores for first six overs :')\n",
        "    first_score_over = []\n",
        "    initial = 0\n",
        "    new_over = [(x + .1) for x in range(1, 6)]\n",
        "    for i, j in zip(first['ball'].values, first['score'].values):\n",
        "        print(f'{i} overs ---> {j} runs')\n",
        "        time.sleep(0.2)\n",
        "        if i in new_over:\n",
        "            first_score_over.append(initial)\n",
        "            initial = 0\n",
        "        elif i == first['ball'].max():\n",
        "            initial += j\n",
        "            first_score_over.append(initial)\n",
        "            break\n",
        "        initial += j\n",
        "    print('Total Runs in each over :')\n",
        "    time.sleep(0.2)\n",
        "    for x, y in enumerate(first_score_over):\n",
        "        print(f'{x} over {y} runs scored')\n",
        "        time.sleep(0.2)\n",
        "    print(f'{team_1} scored {sum(first_score_over)} runs against {team_2} in first 6 overs')\n",
        "    print('--------------')\n",
        "    print(f'{team_2} team scores for first six overs :')\n",
        "    second_score_over = []\n",
        "    initial = 0\n",
        "    new_over = [(x + .1) for x in range(1, 6)]\n",
        "    for i, j in zip(second['ball'].values, second['score'].values):\n",
        "        print(f'{i} overs ---> {j} runs')\n",
        "        time.sleep(0.2)\n",
        "        if i in new_over:\n",
        "            second_score_over.append(initial)\n",
        "            initial = 0\n",
        "        elif i == second['ball'].max():\n",
        "            initial += j\n",
        "            second_score_over.append(initial)\n",
        "            break\n",
        "        initial += j\n",
        "    print('Total Runs in each over :')\n",
        "    time.sleep(0.2)\n",
        "    for x, y in enumerate(second_score_over):\n",
        "        print(f'{x} over {y} runs scored')\n",
        "        time.sleep(0.2)\n",
        "    print(f'{team_2} scored {sum(second_score_over)} runs against {team_1} in first 6 overs')"
      ],
      "execution_count": 11,
      "outputs": []
    },
    {
      "cell_type": "markdown",
      "metadata": {
        "id": "7vD-wKNoh0Tn"
      },
      "source": [
        "**OUTPUT**"
      ]
    },
    {
      "cell_type": "code",
      "metadata": {
        "colab": {
          "base_uri": "https://localhost:8080/"
        },
        "id": "HM_OkVU3e6df",
        "outputId": "9fbbd1f7-4649-4280-f4c8-f7d9f69e0543"
      },
      "source": [
        "scores_of_first_six_overs(last_date_match)"
      ],
      "execution_count": 12,
      "outputs": [
        {
          "output_type": "stream",
          "text": [
            "Rajasthan Royals team scores for first six overs :\n",
            "0.1 overs ---> 0 runs\n",
            "0.2 overs ---> 0 runs\n",
            "0.3 overs ---> 1 runs\n",
            "0.4 overs ---> 0 runs\n",
            "0.5 overs ---> 1 runs\n",
            "0.6 overs ---> 0 runs\n",
            "1.1 overs ---> 0 runs\n",
            "1.2 overs ---> 2 runs\n",
            "1.3 overs ---> 0 runs\n",
            "1.4 overs ---> 0 runs\n",
            "1.5 overs ---> 1 runs\n",
            "1.6 overs ---> 0 runs\n",
            "2.1 overs ---> 4 runs\n",
            "2.2 overs ---> 0 runs\n",
            "2.3 overs ---> 4 runs\n",
            "2.4 overs ---> 4 runs\n",
            "2.5 overs ---> 0 runs\n",
            "2.6 overs ---> 0 runs\n",
            "3.1 overs ---> 1 runs\n",
            "3.2 overs ---> 6 runs\n",
            "3.3 overs ---> 1 runs\n",
            "3.4 overs ---> 4 runs\n",
            "3.5 overs ---> 0 runs\n",
            "3.6 overs ---> 0 runs\n",
            "4.1 overs ---> 1 runs\n",
            "4.2 overs ---> 1 runs\n",
            "4.3 overs ---> 1 runs\n",
            "4.4 overs ---> 0 runs\n",
            "4.5 overs ---> 0 runs\n",
            "4.6 overs ---> 1 runs\n",
            "5.1 overs ---> 4 runs\n",
            "5.2 overs ---> 0 runs\n",
            "5.3 overs ---> 4 runs\n",
            "5.4 overs ---> 1 runs\n",
            "5.5 overs ---> 0 runs\n",
            "5.6 overs ---> 0 runs\n",
            "Total Runs in each over :\n",
            "0 over 2 runs scored\n",
            "1 over 3 runs scored\n",
            "2 over 12 runs scored\n",
            "3 over 12 runs scored\n",
            "4 over 4 runs scored\n",
            "5 over 9 runs scored\n",
            "Rajasthan Royals scored 42 runs against Sunrisers Hyderabad in first 6 overs\n",
            "--------------\n",
            "Sunrisers Hyderabad team scores for first six overs :\n",
            "0.1 overs ---> 0 runs\n",
            "0.2 overs ---> 0 runs\n",
            "0.3 overs ---> 0 runs\n",
            "0.4 overs ---> 0 runs\n",
            "0.5 overs ---> 4 runs\n",
            "0.6 overs ---> 0 runs\n",
            "1.1 overs ---> 4 runs\n",
            "1.2 overs ---> 0 runs\n",
            "1.3 overs ---> 0 runs\n",
            "1.4 overs ---> 1 runs\n",
            "1.5 overs ---> 1 runs\n",
            "1.6 overs ---> 1 runs\n",
            "2.1 overs ---> 1 runs\n",
            "2.2 overs ---> 1 runs\n",
            "2.3 overs ---> 0 runs\n",
            "2.4 overs ---> 0 runs\n",
            "2.5 overs ---> 0 runs\n",
            "2.6 overs ---> 1 runs\n",
            "3.1 overs ---> 6 runs\n",
            "3.2 overs ---> 4 runs\n",
            "3.3 overs ---> 4 runs\n",
            "3.4 overs ---> 1 runs\n",
            "3.5 overs ---> 1 runs\n",
            "3.6 overs ---> 0 runs\n",
            "4.1 overs ---> 0 runs\n",
            "4.2 overs ---> 6 runs\n",
            "4.3 overs ---> 1 runs\n",
            "4.4 overs ---> 2 runs\n",
            "4.5 overs ---> 6 runs\n",
            "4.6 overs ---> 1 runs\n",
            "4.7 overs ---> 0 runs\n",
            "5.1 overs ---> 0 runs\n",
            "5.2 overs ---> 1 runs\n",
            "5.3 overs ---> 1 runs\n",
            "5.4 overs ---> 4 runs\n",
            "5.5 overs ---> 4 runs\n",
            "5.6 overs ---> 1 runs\n",
            "Total Runs in each over :\n",
            "0 over 4 runs scored\n",
            "1 over 7 runs scored\n",
            "2 over 3 runs scored\n",
            "3 over 16 runs scored\n",
            "4 over 16 runs scored\n",
            "5 over 11 runs scored\n",
            "Sunrisers Hyderabad scored 57 runs against Rajasthan Royals in first 6 overs\n"
          ],
          "name": "stdout"
        }
      ]
    }
  ]
}